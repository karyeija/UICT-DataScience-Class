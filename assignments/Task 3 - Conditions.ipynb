{
  "cells": [
    {
      "cell_type": "markdown",
      "metadata": {
        "id": "L7HB7QZ87Cpl"
      },
      "source": [
        "<h1><b>Conditions and Loops</b></h1></br>\n",
        "<h2><i>They are used to evaluate whether a statement is true or false. They are implemented using if, elif, and else statements, together with logical operators [and, or, not] and comparison operators [==, !=, >, <, etc]</h2></i>\n"
      ]
    },
    {
      "cell_type": "code",
      "execution_count": null,
      "metadata": {
        "id": "wCw3Wtc8AO4D"
      },
      "outputs": [],
      "source": [
        "#IF Statements\n"
      ]
    },
    {
      "cell_type": "markdown",
      "metadata": {
        "id": "5M0zVJJ1GoPs"
      },
      "source": [
        "<b>To do</b></br>\n",
        "1. Calculate the tax of anything purchased for more than 1000shs is charged 5% tax otherwise 2%"
      ]
    },
    {
      "cell_type": "markdown",
      "metadata": {
        "id": "egSc5FDq3kDu"
      },
      "source": [
        "<b>Assignments 1</b>\n",
        "1. Write a program that asks the user for their age and then prints whether they are a minor (under 18), an adult (18-64), or a senior (65+).\n",
        "2. Create a program that takes a number as input and prints whether it's positive, negative, or zero."
      ]
    },
    {
      "cell_type": "markdown",
      "metadata": {
        "id": "Kbz6hzY4IbNp"
      },
      "source": [
        "<b>While loop</b></br>\n",
        "Allows you to repeatedly execute a block of statements as long as a condition is true. It is a looping statement."
      ]
    },
    {
      "cell_type": "code",
      "execution_count": null,
      "metadata": {
        "id": "dT7uecBYE033"
      },
      "outputs": [],
      "source": []
    },
    {
      "cell_type": "markdown",
      "metadata": {
        "id": "X1xdPr383-SH"
      },
      "source": [
        "<b>Assignment 2</b>\n",
        "1. Write a program that asks the user to guess a number between 1 and 10. The program should keep asking for a number until the user guesses the correct number (e.g., 7).\n",
        "2. Create a program that prints the numbers from 10 down to 1."
      ]
    },
    {
      "cell_type": "markdown",
      "metadata": {
        "id": "cz8H4HpbQHYP"
      },
      "source": [
        "<b>For loop</b></br>\n",
        "It is also a loop statement which iterates over a sequence of objects, going through each item in a sequence.\n",
        "\n"
      ]
    },
    {
      "cell_type": "code",
      "execution_count": null,
      "metadata": {
        "id": "NQJ44qCXNAkw"
      },
      "outputs": [
        {
          "name": "stdout",
          "output_type": "stream",
          "text": [
            "4\n",
            "4\n",
            "5\n",
            "5\n",
            "5\n",
            "5\n",
            "6\n",
            "6\n",
            "6\n",
            "6\n",
            "7\n",
            "7\n",
            "7\n",
            "7\n",
            "8\n",
            "8\n",
            "8\n",
            "8\n",
            "9\n",
            "9\n",
            "9\n",
            "9\n",
            "10\n",
            "10\n",
            "10\n",
            "10\n",
            "11\n"
          ]
        }
      ],
      "source": [
        "#using for loop to iterate over a range 18 to 45, divides the values by 4 and prints the resultant value within the range. otherwise the loop is over.\n",
        "#!/usr/bin/env python3\n",
        "for i in range(18, 45):\n",
        "    if i % 4 == 0:\n",
        "        print(i // 4)\n",
        "    else:\n",
        "        break\n",
        "      "
      ]
    },
    {
      "cell_type": "markdown",
      "metadata": {
        "id": "S-rlT7ia4NSp"
      },
      "source": [
        "<b>Assignment 3 </b>\n",
        "1. Write a program that prints the square of each number from 1 to 10.\n",
        "2. Create a program that finds the sum of all the even numbers between 1 and 100."
      ]
    }
  ],
  "metadata": {
    "colab": {
      "provenance": []
    },
    "kernelspec": {
      "display_name": ".venv",
      "language": "python",
      "name": "python3"
    },
    "language_info": {
      "codemirror_mode": {
        "name": "ipython",
        "version": 3
      },
      "file_extension": ".py",
      "mimetype": "text/x-python",
      "name": "python",
      "nbconvert_exporter": "python",
      "pygments_lexer": "ipython3",
      "version": "3.13.5"
    }
  },
  "nbformat": 4,
  "nbformat_minor": 0
}
