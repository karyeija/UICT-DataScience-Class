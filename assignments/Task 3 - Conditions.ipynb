{
  "nbformat": 4,
  "nbformat_minor": 0,
  "metadata": {
    "colab": {
      "provenance": []
    },
    "kernelspec": {
      "name": "python3",
      "display_name": "Python 3"
    },
    "language_info": {
      "name": "python"
    }
  },
  "cells": [
    {
      "cell_type": "markdown",
      "source": [
        "<h1><b>Conditions and Loops</b></h1></br>\n",
        "<h2><i>They are used to evaluate whether a statement is true or false. They are implemented using if, elif, and else statements, together with logical operators [and, or, not] and comparison operators [==, !=, >, <, etc]</h2></i>\n"
      ],
      "metadata": {
        "id": "L7HB7QZ87Cpl"
      }
    },
    {
      "cell_type": "code",
      "source": [
        "#IF Statements\n"
      ],
      "metadata": {
        "id": "wCw3Wtc8AO4D"
      },
      "execution_count": null,
      "outputs": []
    },
    {
      "cell_type": "markdown",
      "source": [
        "<b>To do</b></br>\n",
        "1. Calculate the tax of anything purchased for more than 1000shs is charged 5% tax otherwise 2%"
      ],
      "metadata": {
        "id": "5M0zVJJ1GoPs"
      }
    },
    {
      "cell_type": "markdown",
      "source": [
        "<b>Assignments 1</b>\n",
        "1. Write a program that asks the user for their age and then prints whether they are a minor (under 18), an adult (18-64), or a senior (65+).\n",
        "2. Create a program that takes a number as input and prints whether it's positive, negative, or zero."
      ],
      "metadata": {
        "id": "egSc5FDq3kDu"
      }
    },
    {
      "cell_type": "markdown",
      "source": [
        "<b>While loop</b></br>\n",
        "Allows you to repeatedly execute a block of statements as long as a condition is true. It is a looping statement."
      ],
      "metadata": {
        "id": "Kbz6hzY4IbNp"
      }
    },
    {
      "cell_type": "code",
      "source": [],
      "metadata": {
        "id": "dT7uecBYE033"
      },
      "execution_count": null,
      "outputs": []
    },
    {
      "cell_type": "markdown",
      "source": [
        "<b>Assignment 2</b>\n",
        "1. Write a program that asks the user to guess a number between 1 and 10. The program should keep asking for a number until the user guesses the correct number (e.g., 7).\n",
        "2. Create a program that prints the numbers from 10 down to 1."
      ],
      "metadata": {
        "id": "X1xdPr383-SH"
      }
    },
    {
      "cell_type": "markdown",
      "source": [
        "<b>For loop</b></br>\n",
        "It is also a loop statement which iterates over a sequence of objects, going through each item in a sequence.\n",
        "\n"
      ],
      "metadata": {
        "id": "cz8H4HpbQHYP"
      }
    },
    {
      "cell_type": "code",
      "source": [
        "#using for loop to iterate over a range 18 to 45, divides the values by 4 and prints the resultant value within the range. otherwise the loop is over.\n"
      ],
      "metadata": {
        "id": "NQJ44qCXNAkw"
      },
      "execution_count": null,
      "outputs": []
    },
    {
      "cell_type": "markdown",
      "source": [
        "<b>Assignment 3 </b>\n",
        "1. Write a program that prints the square of each number from 1 to 10.\n",
        "2. Create a program that finds the sum of all the even numbers between 1 and 100."
      ],
      "metadata": {
        "id": "S-rlT7ia4NSp"
      }
    }
  ]
}