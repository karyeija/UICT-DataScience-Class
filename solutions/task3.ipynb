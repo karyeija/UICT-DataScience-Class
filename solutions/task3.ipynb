{
 "cells": [
  {
   "cell_type": "markdown",
   "id": "f58f223e",
   "metadata": {},
   "source": [
    "## <b>Assignments 1</b>\n",
    "1. Write a program that asks the user for their age and then prints whether they are a minor (under 18), an adult (18-64), or a senior (65+).\n",
    "2. Create a program that takes a number as input and prints whether it's positive, negative, or zero."
   ]
  },
  {
   "cell_type": "markdown",
   "id": "adfc59b2",
   "metadata": {},
   "source": [
    "## Solutions"
   ]
  },
  {
   "cell_type": "markdown",
   "id": "f5be5163",
   "metadata": {},
   "source": [
    "### Number1"
   ]
  },
  {
   "cell_type": "code",
   "execution_count": 4,
   "id": "04f09a2e",
   "metadata": {},
   "outputs": [
    {
     "name": "stdout",
     "output_type": "stream",
     "text": [
      "You are an adult.\n"
     ]
    }
   ],
   "source": [
    "\"\"\"\n",
    "A program that asks the user for their age and then prints whether they are a minor (under 18), an adult (18-64), or a senior (65+).\n",
    "\"\"\"\n",
    "def main():\n",
    "    age = int(input(\"Please enter your age: \"))\n",
    "    \n",
    "    if age < 18:\n",
    "        print(\"You are a minor.\")\n",
    "    elif 18 <= age < 65:\n",
    "        print(\"You are an adult.\")\n",
    "    else:\n",
    "        print(\"You are a senior.\")\n",
    "if __name__ == \"__main__\":\n",
    "    main()"
   ]
  },
  {
   "cell_type": "markdown",
   "id": "d43c76bd",
   "metadata": {},
   "source": [
    "### number2"
   ]
  },
  {
   "cell_type": "code",
   "execution_count": 5,
   "id": "3b683c1c",
   "metadata": {},
   "outputs": [
    {
     "name": "stdout",
     "output_type": "stream",
     "text": [
      "The number is positive.\n"
     ]
    }
   ],
   "source": [
    "\"\"\" \n",
    "a program that takes a number as input and prints whether it's positive, negative, or zero.\n",
    "\"\"\"\n",
    "def main():\n",
    "    number = float(input(\"Please enter a number: \"))\n",
    "    \n",
    "    if number > 0:\n",
    "        print(\"The number is positive.\")\n",
    "    elif number < 0:\n",
    "        print(\"The number is negative.\")\n",
    "    else:\n",
    "        print(\"The number is zero.\")    \n",
    "if __name__ == \"__main__\":\n",
    "    main()"
   ]
  },
  {
   "cell_type": "markdown",
   "id": "9357b92b",
   "metadata": {},
   "source": [
    "# <b>Assignment 2</b>\n",
    "1. Write a program that asks the user to guess a number between 1 and 10. The program should keep asking for a number until the user guesses the correct number (e.g., 7).\n",
    "2. Create a program that prints the numbers from 10 down to 1."
   ]
  },
  {
   "cell_type": "markdown",
   "id": "25a36d2e",
   "metadata": {},
   "source": [
    "## Solutions"
   ]
  },
  {
   "cell_type": "markdown",
   "id": "0f22a111",
   "metadata": {},
   "source": [
    "### Number1"
   ]
  },
  {
   "cell_type": "code",
   "execution_count": null,
   "id": "39e19e8a",
   "metadata": {},
   "outputs": [
    {
     "name": "stdout",
     "output_type": "stream",
     "text": [
      "Too high! Try again.\n",
      "Too low! Try again.\n",
      "Too high! Try again.\n",
      "Too high! Try again.\n",
      "Too low! Try again.\n",
      "Too low! Try again.\n",
      "Too low! Try again.\n",
      "Too low! Try again.\n",
      "Too low! Try again.\n",
      "Too low! Try again.\n",
      "Too low! Try again.\n",
      "Congratulations! You've guessed the correct number.\n"
     ]
    }
   ],
   "source": [
    "\"\"\"A program that:\n",
    "-asks the user to guess a number between 1 and 10.\n",
    "-keeps asking for a number until the user guesses the correct number (e.g., 7).\"\"\"\n",
    "import random\n",
    "def main():\n",
    "    number_to_guess = random.randint(1, 10)\n",
    "    guess = None\n",
    "    \n",
    "    while guess != number_to_guess:\n",
    "        user_input = input(\"Guess a number between 1 and 10: \")\n",
    "        if not user_input.strip().isdigit():\n",
    "            print(\"Please enter a valid integer between 1 and 10.\")\n",
    "            continue\n",
    "        guess = int(user_input)\n",
    "        \n",
    "        if guess < number_to_guess:\n",
    "            print(\"Too low! Try again.\")\n",
    "        elif guess > number_to_guess:\n",
    "            print(\"Too high! Try again.\")\n",
    "        else:\n",
    "            print(\"Congratulations! You've guessed the correct number.\")\n",
    "if __name__ == \"__main__\":\n",
    "    main()"
   ]
  },
  {
   "cell_type": "markdown",
   "id": "db08a142",
   "metadata": {},
   "source": [
    "### Number2"
   ]
  },
  {
   "cell_type": "code",
   "execution_count": null,
   "id": "76b86c67",
   "metadata": {},
   "outputs": [
    {
     "name": "stdout",
     "output_type": "stream",
     "text": [
      "10\n",
      "9\n",
      "8\n",
      "7\n",
      "6\n",
      "5\n",
      "4\n",
      "3\n",
      "2\n",
      "1\n"
     ]
    }
   ],
   "source": [
    "\"\"\"A program that prints the numbers from 10 down to 1.\"\"\"\n",
    "def main():\n",
    "    for number in range(10, 0, -1):\n",
    "        print(number)   \n",
    "if __name__ == \"__main__\":\n",
    "    main()"
   ]
  },
  {
   "cell_type": "markdown",
   "id": "d857af2d",
   "metadata": {},
   "source": [
    "# <b>Assignment 3 </b>\n",
    "1. Write a program that prints the square of each number from 1 to 10.\n",
    "2. Create a program that finds the sum of all the even numbers between 1 and 100."
   ]
  },
  {
   "cell_type": "markdown",
   "id": "e830844e",
   "metadata": {},
   "source": [
    "## Solutions"
   ]
  },
  {
   "cell_type": "markdown",
   "id": "da9376a6",
   "metadata": {},
   "source": [
    "### Number1"
   ]
  },
  {
   "cell_type": "code",
   "execution_count": 8,
   "id": "1edec528",
   "metadata": {},
   "outputs": [
    {
     "name": "stdout",
     "output_type": "stream",
     "text": [
      "The square of 1 is 1\n",
      "The square of 2 is 4\n",
      "The square of 3 is 9\n",
      "The square of 4 is 16\n",
      "The square of 5 is 25\n",
      "The square of 6 is 36\n",
      "The square of 7 is 49\n",
      "The square of 8 is 64\n",
      "The square of 9 is 81\n",
      "The square of 10 is 100\n"
     ]
    }
   ],
   "source": [
    "\"\"\"A program that prints the square of each number from 1 to 10.\"\"\"\n",
    "def main():\n",
    "    for number in range(1, 11):\n",
    "        print(f\"The square of {number} is {number ** 2}\")   \n",
    "if __name__ == \"__main__\":\n",
    "    main()"
   ]
  },
  {
   "cell_type": "markdown",
   "id": "d08935d5",
   "metadata": {},
   "source": [
    "### Number2"
   ]
  },
  {
   "cell_type": "code",
   "execution_count": 9,
   "id": "29d553a4",
   "metadata": {},
   "outputs": [
    {
     "name": "stdout",
     "output_type": "stream",
     "text": [
      "The sum of all even numbers between 1 and 100 is 2550\n"
     ]
    }
   ],
   "source": [
    "\"\"\"A program that finds the sum of all the even numbers between 1 and 100.\"\"\"\n",
    "def main():\n",
    "    total_sum = sum(number for number in range(1, 101) if number % 2 == 0)\n",
    "    print(f\"The sum of all even numbers between 1 and 100 is {total_sum}\")  \n",
    "if __name__ == \"__main__\":\n",
    "    main()"
   ]
  }
 ],
 "metadata": {
  "kernelspec": {
   "display_name": ".venv",
   "language": "python",
   "name": "python3"
  },
  "language_info": {
   "codemirror_mode": {
    "name": "ipython",
    "version": 3
   },
   "file_extension": ".py",
   "mimetype": "text/x-python",
   "name": "python",
   "nbconvert_exporter": "python",
   "pygments_lexer": "ipython3",
   "version": "3.13.5"
  }
 },
 "nbformat": 4,
 "nbformat_minor": 5
}
