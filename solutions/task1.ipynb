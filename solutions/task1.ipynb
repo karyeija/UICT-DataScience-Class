{
 "cells": [
  {
   "cell_type": "markdown",
   "id": "74a7ff3a",
   "metadata": {},
   "source": [
    "<b>Assignment 1 </b>\n",
    "1. Write a program that prompts a user to enter the radius of a circle, calculates the area and circumference, and then prints both results in a user-friendly format."
   ]
  },
  {
   "cell_type": "markdown",
   "id": "8e2de18b",
   "metadata": {},
   "source": [
    "<div style=\"color: orange; text-align: center;\">\n",
    "  <u>Solution to Assignment1</u>\n",
    "</div>"
   ]
  },
  {
   "cell_type": "code",
   "execution_count": 9,
   "id": "49b0a960",
   "metadata": {},
   "outputs": [
    {
     "name": "stdout",
     "output_type": "stream",
     "text": [
      "Area is 50.27 m²,\n",
      "Circumference is 25.13 m\n"
     ]
    }
   ],
   "source": [
    "\"\"\"\n",
    "The function prompts the user to enter the radius of the circle and calculates the area and circumference.\n",
    "The function uses the formula for the area (πr²) and circumference (2πr) of a circle.\n",
    "The user is prompted to enter the radius, and if the radius is negative, an error message is returned. \n",
    "Otherwise, it calculates and returns the area and circumference.\n",
    "The function returns the area and circumference of a circle based on the radius provided by the user.\n",
    "radius is a float value and an argument to the function. \n",
    " \"\"\"\n",
    "\n",
    "def circle_properties():\n",
    "    radius = float(input(\"Enter the radius of the circle: \"))\n",
    "    if radius < 0:\n",
    "        return print(\"Error: Radius cannot be negative.\")     \n",
    "    pi = 3.14159\n",
    "    area = pi * (radius ** 2)\n",
    "    circumference = 2 * pi * radius\n",
    "    return print(f\"Area is {area:.2f} m\\u00b2,\\nCircumference is {circumference:.2f} m\")\n",
    "\n",
    "# usage\n",
    "result = circle_properties()"
   ]
  },
  {
   "cell_type": "markdown",
   "id": "f6295f70",
   "metadata": {},
   "source": [
    "<b>Assignment 2</b>\n",
    "1. Create a program that asks a user for their first name and last name. Then, create a new variable called full_name by combining the first and last names in uppercase with a space in between. Finally, print a message that says: \"Hello, [Full Name]! Your name has [Number] characters.\""
   ]
  },
  {
   "cell_type": "markdown",
   "id": "a44642e1",
   "metadata": {},
   "source": [
    "<div style=\"color: orange; text-align: center;\">\n",
    "  <u>Solution to Assignment2</u>\n",
    "</div>"
   ]
  },
  {
   "cell_type": "code",
   "execution_count": 10,
   "id": "e7a6c279",
   "metadata": {},
   "outputs": [
    {
     "name": "stdout",
     "output_type": "stream",
     "text": [
      "Hello, KARYEIJA FELEX! Your name has 13 characters.\n"
     ]
    }
   ],
   "source": [
    "\"\"\"\n",
    "This program asks a user for their first name and last name. Create a new variable called full_name by combining the first and last names in uppercase with a space in between. Finally, print a message that says: \"Hello, [Full Name]! Your name has [Number] characters.\"\n",
    "\"\"\"\n",
    "def main():\n",
    "    first_name = input(\"Enter your first name: \")\n",
    "    last_name = input(\"Enter your last name: \")\n",
    "    \n",
    "    full_name = f\"{first_name.upper()} {last_name.upper()}\"\n",
    "    num_characters = len(full_name.replace(\" \", \"\"))  # Excluding space from character count\n",
    "    \n",
    "    print(f\"Hello, {full_name}! Your name has {num_characters} characters.\")\n",
    "if __name__ == \"__main__\":\n",
    "    main()              "
   ]
  },
  {
   "cell_type": "markdown",
   "id": "3538eb75",
   "metadata": {},
   "source": [
    "<b>Assignment 3</b>\n",
    "1. Create a program that asks a user for their name and age. Then, calculate the year they were born and print a message like: \"Hi [Name], you are [Age] years old, so you were born in [Year].\""
   ]
  },
  {
   "cell_type": "markdown",
   "id": "e68968c9",
   "metadata": {},
   "source": [
    "<div style=\"color: orange; text-align: center;\">\n",
    "  <u>Solution to Assignment3</u>\n",
    "</div>"
   ]
  },
  {
   "cell_type": "code",
   "execution_count": 11,
   "id": "b0e4f254",
   "metadata": {},
   "outputs": [
    {
     "name": "stdout",
     "output_type": "stream",
     "text": [
      "Hi Karyeija, you are 27 years old, so you were born in 1998.\n"
     ]
    }
   ],
   "source": [
    "import datetime as dt\n",
    "\"\"\"The program asks a user for their name and age. Then, calculate the year they were born and print a message like: \"Hi [Name], you are [Age] years old, so you were born in [Year]\"\"\"\n",
    "def main():\n",
    "    name = input(\"Enter your name: \")\n",
    "    age = int(input(\"Enter your age: \"))\n",
    "    current_year = dt.datetime.now().year\n",
    "    if age < 0:\n",
    "        return print(\"Error: Age cannot be negative.\")\n",
    "    birth_year = current_year - age\n",
    "    print(f\"Hi {name}, you are {age} years old, so you were born in {birth_year}.\")\n",
    "    \n",
    "if __name__ == \"__main__\":\n",
    "    main()"
   ]
  }
 ],
 "metadata": {
  "kernelspec": {
   "display_name": ".venv",
   "language": "python",
   "name": "python3"
  },
  "language_info": {
   "codemirror_mode": {
    "name": "ipython",
    "version": 3
   },
   "file_extension": ".py",
   "mimetype": "text/x-python",
   "name": "python",
   "nbconvert_exporter": "python",
   "pygments_lexer": "ipython3",
   "version": "3.13.5"
  }
 },
 "nbformat": 4,
 "nbformat_minor": 5
}
