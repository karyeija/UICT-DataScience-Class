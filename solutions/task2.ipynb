{
 "cells": [
  {
   "cell_type": "markdown",
   "id": "197a698d",
   "metadata": {},
   "source": [
    "File can be accessed from https://github.com/karyeija/UICT-DataScience-Class/blob/main/solutions/task2.ipynb"
   ]
  },
  {
   "cell_type": "markdown",
   "id": "e40bfe78",
   "metadata": {},
   "source": [
    "<h3><b>Assignment 1</b> </h3>\n",
    "1. Create a list of your top 5 favorite movies. Then, replace the movie at index 2 with a new one. Finally, sort the list in alphabetical order and print the result.<br>\n",
    "2. Given a list of numbers, [5, 15, 25, 35, 45], insert the number 20 at the correct position to maintain the sorted order. Then, remove the last item and print the modified list."
   ]
  },
  {
   "cell_type": "markdown",
   "id": "61dd4766",
   "metadata": {},
   "source": [
    "<div style=\"color: rgb(230,100,50); text-align: center;font-size:27px\">\n",
    "  <u>Solution to Assignment1</u>\n",
    "</div>"
   ]
  },
  {
   "cell_type": "markdown",
   "id": "783a186c",
   "metadata": {},
   "source": [
    "<li>Number 1</li>"
   ]
  },
  {
   "cell_type": "code",
   "execution_count": null,
   "id": "93870803",
   "metadata": {},
   "outputs": [
    {
     "name": "stdout",
     "output_type": "stream",
     "text": [
      "['A Question of Faith', 'Faith like potato', \"I'm in love with a Church Girl\", 'Snake in the Eagles shadow', 'The Drunken Master']\n"
     ]
    }
   ],
   "source": [
    "\"\"\"This program creates a list of top 5 favorite movies. \n",
    "Then, replaces the movie at index 2 with a new one. \n",
    "Finally, sorts the list in alphabetical order and print the result.\"\"\"\n",
    "def main():\n",
    "    # Create a list of top 5 favorite movies\n",
    "    favorite_movies = ['I\\'m in love with a Church Girl', 'Faith like potato', 'Lifted', 'Snake in the Eagles shadow', 'The Drunken Master']\n",
    "    \n",
    "    # Replace the movie at index 2 with a new one\n",
    "    favorite_movies[2] = 'A Question of Faith'\n",
    "    \n",
    "    # Sort the list in alphabetical order\n",
    "    favorite_movies.sort()\n",
    "    \n",
    "    # Print the result\n",
    "    print(favorite_movies, end='\\n') \n",
    "if __name__ == \"__main__\":\n",
    "    main()"
   ]
  },
  {
   "cell_type": "markdown",
   "id": "f7ccfcd6",
   "metadata": {},
   "source": [
    "<li> Number 2"
   ]
  },
  {
   "cell_type": "code",
   "execution_count": 20,
   "id": "d3da276f",
   "metadata": {},
   "outputs": [
    {
     "name": "stdout",
     "output_type": "stream",
     "text": [
      "[5, 15, 20, 25, 35]\n"
     ]
    }
   ],
   "source": [
    "\"\"\"Given a list of numbers, [5, 15, 25, 35, 45], \n",
    "The program inserts the number 20 at the correct position to maintain the sorted order. \n",
    "Removes the last item.\n",
    "prints the modified list.\"\"\"\n",
    "def main():\n",
    "    \n",
    "    numbers = [5, 15, 25, 35, 45] # list of numbers\n",
    "    \n",
    "    numbers.append(20) # Insert the number 20 at the correct position\n",
    "    numbers.sort() # Sort the list to maintain order\n",
    "    \n",
    "    numbers.pop() # Remove the last item\n",
    "    \n",
    "    # Print the modified list\n",
    "    print(numbers, end='\\n')    \n",
    "if __name__ == \"__main__\":\n",
    "    main()"
   ]
  },
  {
   "cell_type": "markdown",
   "id": "aa9d6a3a",
   "metadata": {},
   "source": [
    "<h3><b>Assignment 2</b></h3>\n",
    "1. You have a tuple ('pen', 'pencil', 'eraser'). Your friend wants to borrow the 'pencil' and you want to add a 'ruler' to your collection. Since tuples are immutable, how can you achieve this by creating a new tuple?<br>\n",
    "2. You are given a tuple of student scores: (85, 92, 78, 85, 90, 85). First, find out how many times the score 85 appears. Then, find the index of the first occurrence of the score 92."
   ]
  },
  {
   "cell_type": "markdown",
   "id": "7978f330",
   "metadata": {},
   "source": [
    "<div style=\"color: rgb(230,100,50); text-align: center;font-size:27px\">\n",
    "  <u>Solution to Assignment2</u>\n",
    "</div>"
   ]
  },
  {
   "cell_type": "markdown",
   "id": "6080af1d",
   "metadata": {},
   "source": [
    "<div style=\"color: rgb(230,100,50); text-align: end;font-size:20px\">\n",
    "  Number1\n",
    "</div>"
   ]
  },
  {
   "cell_type": "code",
   "execution_count": 21,
   "id": "89a9b3db",
   "metadata": {},
   "outputs": [
    {
     "name": "stdout",
     "output_type": "stream",
     "text": [
      "('pen', 'ruler', 'eraser')\n"
     ]
    }
   ],
   "source": [
    "\"\"\"\n",
    "You have a tuple ('pen', 'pencil', 'eraser'). \n",
    "Your friend wants to borrow the 'pencil' and you want to add a 'ruler' to your collection. \n",
    "Since tuples are immutable, how can you achieve this by creating a new tuple?\n",
    "\"\"\"\n",
    "def main():\n",
    "    # Original tuple\n",
    "    original_tuple = ('pen', 'pencil', 'eraser')\n",
    "    \n",
    "    # Create a new tuple with the desired changes\n",
    "    new_tuple = (\n",
    "        original_tuple[0] # 'pen',\n",
    "                 , 'ruler', # Adding 'ruler'\n",
    "                 original_tuple[2]# 'eraser'\n",
    "                 )\n",
    "    \n",
    "    # Print the new tuple\n",
    "    print(new_tuple, end='\\n')      \n",
    "if __name__ == \"__main__\":\n",
    "    main()"
   ]
  },
  {
   "cell_type": "markdown",
   "id": "f3b1be30",
   "metadata": {},
   "source": [
    "<div style=\"color: rgb(230,100,50); text-align: end;font-size:20px\">\n",
    "  Number2\n",
    "</div>"
   ]
  },
  {
   "cell_type": "code",
   "execution_count": 22,
   "id": "0941ab4e",
   "metadata": {},
   "outputs": [
    {
     "name": "stdout",
     "output_type": "stream",
     "text": [
      "Score 85 appears 3 times.\n",
      "The first occurrence of score 92 is at index 1.\n"
     ]
    }
   ],
   "source": [
    "\"\"\" \n",
    "Given a tuple of student scores: (85, 92, 78, 85, 90, 85). \n",
    "The program:\n",
    "- finds out how many times the score 85 appears.\n",
    "- finds the index of the first occurrence of the score 92.\n",
    "\"\"\"\n",
    "def main():\n",
    "    # Given tuple of student scores\n",
    "    scores = (85, 92, 78, 85, 90, 85)\n",
    "    \n",
    "    # Count how many times the score 85 appears\n",
    "    count_85 = scores.count(85)\n",
    "    \n",
    "    # Find the index of the first occurrence of the score 92\n",
    "    index_92 = scores.index(92)\n",
    "    \n",
    "    # Print the results\n",
    "    print(f\"Score 85 appears {count_85} times.\")\n",
    "    print(f\"The first occurrence of score 92 is at index {index_92}.\", end='\\n')    \n",
    "if __name__ == \"__main__\":\n",
    "    main()"
   ]
  },
  {
   "cell_type": "markdown",
   "id": "ba79689f",
   "metadata": {},
   "source": [
    "<h3><b>Assignment 3</b></h3>\n",
    "1. Create a set of your favorite hobbies. Add a new hobby to the set. Then, create another set with a friend's hobbies. Find the hobbies that you both have in common and the hobbies that are unique to each of you.<br>\n",
    "2. You have a set of numbers A = {1, 2, 3, 4, 5} and another set B = {4, 5, 6, 7, 8}. Find the union of both sets (all unique numbers from both sets) and the difference between set A and set B (numbers present in A but not in B).\n",
    "\n"
   ]
  },
  {
   "cell_type": "markdown",
   "id": "cceab132",
   "metadata": {},
   "source": [
    "<div style=\"color: rgb(230,100,50); text-align: center;font-size:27px\">\n",
    "  <u>Solution to Assignment3</u>\n",
    "</div>"
   ]
  },
  {
   "cell_type": "markdown",
   "id": "13fd23f1",
   "metadata": {},
   "source": [
    "<div style=\"color: rgb(230,100,50); text-align: end;font-size:20px\">\n",
    "  Number1\n",
    "</div>"
   ]
  },
  {
   "cell_type": "code",
   "execution_count": 23,
   "id": "f375bc4f",
   "metadata": {},
   "outputs": [
    {
     "name": "stdout",
     "output_type": "stream",
     "text": [
      "Common hobbies: {'watching', 'coding'}\n",
      "My unique hobbies: {'painting', 'hiking', 'jogging'}\n",
      "Friend's unique hobbies: {'gaming', 'traveling'}\n"
     ]
    }
   ],
   "source": [
    "\"\"\" \n",
    "This program demonstrates the use of sets in Python.\n",
    "- Creating a set of your favorite hobbies. \n",
    "- Adding a new hobby to the set. \n",
    "- creating another set with a friend's hobbies. \n",
    "Find the hobbies that:\n",
    "    - you both have in common\n",
    "    - the hobbies that are unique to each of you.\n",
    "\"\"\"\n",
    "def main():\n",
    "    # Create a set of favorite hobbies\n",
    "    my_hobbies = {'coding', 'watching', 'hiking', 'jogging'}\n",
    "    \n",
    "    # Add a new hobby to the set\n",
    "    my_hobbies.add('painting')\n",
    "    \n",
    "    # Create another set with a friend's hobbies\n",
    "    friends_hobbies = {'gaming', 'traveling', 'coding', 'watching'}\n",
    "    \n",
    "    # Find common hobbies\n",
    "    common_hobbies = my_hobbies.intersection(friends_hobbies)\n",
    "    \n",
    "    # Find unique hobbies\n",
    "    unique_to_me = my_hobbies.difference(friends_hobbies)\n",
    "    unique_to_friend = friends_hobbies.difference(my_hobbies)\n",
    "    \n",
    "    # Print the results\n",
    "    print(f\"Common hobbies: {common_hobbies}\")\n",
    "    print(f\"My unique hobbies: {unique_to_me}\")\n",
    "    print(f\"Friend's unique hobbies: {unique_to_friend}\", end='\\n')\n",
    "if __name__ == \"__main__\":\n",
    "    main()"
   ]
  },
  {
   "cell_type": "markdown",
   "id": "301e4385",
   "metadata": {},
   "source": [
    "<div style=\"color: rgb(230,100,50); text-align: end;font-size:20px\">\n",
    "  Number2\n",
    "</div>"
   ]
  },
  {
   "cell_type": "code",
   "execution_count": null,
   "id": "c87660b7",
   "metadata": {},
   "outputs": [
    {
     "name": "stdout",
     "output_type": "stream",
     "text": [
      "Union of A and B: {1, 2, 3, 4, 5, 6, 7, 8}\n",
      "Difference between A and B: {1, 2, 3}\n"
     ]
    }
   ],
   "source": [
    "\"\"\" \n",
    "set A = {1, 2, 3, 4, 5} and \n",
    "set B = {4, 5, 6, 7, 8}. \n",
    "The program finds the union of both sets (all unique numbers from both sets) and \n",
    "the difference between set A and set B (numbers present in A but not in B).\n",
    "\"\"\"\n",
    "def main():\n",
    "    # Define the sets A and B\n",
    "    set_A = {1, 2, 3, 4, 5}\n",
    "    set_B = {4, 5, 6, 7, 8}\n",
    "    \n",
    "    # Find the union of both sets\n",
    "    union_set = set_A.union(set_B)\n",
    "    \n",
    "    # Find the difference between set A and set B\n",
    "    difference_set = set_A.difference(set_B)\n",
    "    \n",
    "    # Print the results\n",
    "    print(f\"Union of A and B: {union_set}\")\n",
    "    print(f\"Difference between A and B: {difference_set}\", end='\\n')\n",
    "if __name__ == \"__main__\":\n",
    "    main()"
   ]
  },
  {
   "cell_type": "markdown",
   "id": "ce7b3245",
   "metadata": {},
   "source": [
    "<h3><b>Assignment 4</b></h3>\n",
    "1. Create a dictionary representing a car with keys 'brand', 'model', and 'year'. Then, add a new key-value pair for 'color'. Finally, update the 'year' to a newer year and remove the 'model' key.<br>\n",
    "2. You have a dictionary of product prices: {'apple': 0.50, 'banana': 0.25, 'orange': 0.60}. You want to increase the price of 'apple' by 10% and add a new product 'mango' with a price of 1.25."
   ]
  },
  {
   "cell_type": "markdown",
   "id": "c7c201aa",
   "metadata": {},
   "source": [
    "<div style=\"color: rgb(230,100,50); text-align: end;font-size:20px\">\n",
    "  Number1\n",
    "</div>"
   ]
  },
  {
   "cell_type": "code",
   "execution_count": 25,
   "id": "ada55b2b",
   "metadata": {},
   "outputs": [
    {
     "name": "stdout",
     "output_type": "stream",
     "text": [
      "{'brand': 'Toyota', 'year': 2022, 'color': 'Red'}\n"
     ]
    }
   ],
   "source": [
    "\"\"\" \n",
    "Create a dictionary representing a car with keys 'brand', 'model', and 'year'. Then, add a new key-value pair for 'color'. Finally, update the 'year' to a newer year and remove the 'model' key.\n",
    "\"\"\"\n",
    "def main():\n",
    "    # Create a dictionary representing a car\n",
    "    car = {\n",
    "        'brand': 'Toyota',\n",
    "        'model': 'Corolla',\n",
    "        'year': 2020\n",
    "    }\n",
    "    \n",
    "    # Add a new key-value pair for 'color'\n",
    "    car['color'] = 'Red'\n",
    "    \n",
    "    # Update the 'year' to a newer year\n",
    "    car['year'] = 2022\n",
    "    \n",
    "    # Remove the 'model' key\n",
    "    del car['model']\n",
    "    \n",
    "    # Print the modified dictionary\n",
    "    print(car, end='\\n')\n",
    "if __name__ == \"__main__\":\n",
    "    main()"
   ]
  },
  {
   "cell_type": "markdown",
   "id": "5d16ce05",
   "metadata": {},
   "source": [
    "<div style=\"color: rgb(230,100,50); text-align: end;font-size:20px\">\n",
    "  Number2\n",
    "</div>"
   ]
  },
  {
   "cell_type": "code",
   "execution_count": 26,
   "id": "ba09cbec",
   "metadata": {},
   "outputs": [
    {
     "name": "stdout",
     "output_type": "stream",
     "text": [
      "{'apple': 0.55, 'banana': 0.25, 'orange': 0.6, 'mango': 1.25}\n"
     ]
    }
   ],
   "source": [
    "\"\"\" \n",
    "A dictionary of product prices: {'apple': 0.50, 'banana': 0.25, 'orange': 0.60}. \n",
    "-increase the price of 'apple' by 10%\n",
    "-add a new product 'mango' with a price of 1.25.\n",
    "\"\"\"\n",
    "def main():\n",
    "    # Create a dictionary of product prices\n",
    "    product_prices = {\n",
    "        'apple': 0.50,\n",
    "        'banana': 0.25,\n",
    "        'orange': 0.60\n",
    "    }\n",
    "    \n",
    "    # Increase the price of 'apple' by 10%\n",
    "    product_prices['apple'] *= 1.10\n",
    "    \n",
    "    # Add a new product 'mango' with a price of 1.25\n",
    "    product_prices['mango'] = 1.25\n",
    "    \n",
    "    # Print the updated dictionary\n",
    "    print(product_prices, end='\\n')\n",
    "if __name__ == \"__main__\":\n",
    "    main()"
   ]
  }
 ],
 "metadata": {
  "kernelspec": {
   "display_name": ".venv",
   "language": "python",
   "name": "python3"
  },
  "language_info": {
   "codemirror_mode": {
    "name": "ipython",
    "version": 3
   },
   "file_extension": ".py",
   "mimetype": "text/x-python",
   "name": "python",
   "nbconvert_exporter": "python",
   "pygments_lexer": "ipython3",
   "version": "3.13.5"
  }
 },
 "nbformat": 4,
 "nbformat_minor": 5
}
